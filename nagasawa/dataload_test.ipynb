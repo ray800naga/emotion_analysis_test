{
 "cells": [
  {
   "cell_type": "code",
   "execution_count": 24,
   "metadata": {},
   "outputs": [
    {
     "name": "stdout",
     "output_type": "stream",
     "text": [
      "3866373\n"
     ]
    }
   ],
   "source": [
    "with open(\"/workspace/dataset/data_src/BERT_to_emotion/only_emotion/train/BERT_to_emo_train.txt\", 'r') as f:\n",
    "\tcount = 0\n",
    "\tinput_vec_list = []\n",
    "\toutput_vec_list = []\n",
    "\tfor line in f:\n",
    "\t\tcount += 1\n",
    "print(count)"
   ]
  },
  {
   "cell_type": "code",
   "execution_count": 25,
   "metadata": {},
   "outputs": [
    {
     "name": "stdout",
     "output_type": "stream",
     "text": [
      "210975\n"
     ]
    }
   ],
   "source": [
    "with open(\"/workspace/dataset/data_src/BERT_to_emotion/only_emotion/val/BERT_to_emo_val.txt\", 'r') as f:\n",
    "\tcount = 0\n",
    "\tinput_vec_list = []\n",
    "\toutput_vec_list = []\n",
    "\tfor line in f:\n",
    "\t\tcount += 1\n",
    "print(count)"
   ]
  },
  {
   "cell_type": "code",
   "execution_count": 26,
   "metadata": {},
   "outputs": [
    {
     "name": "stdout",
     "output_type": "stream",
     "text": [
      "212097\n"
     ]
    }
   ],
   "source": [
    "with open(\"/workspace/dataset/data_src/BERT_to_emotion/only_emotion/test/BERT_to_emo_test.txt\", 'r') as f:\n",
    "\tcount = 0\n",
    "\tinput_vec_list = []\n",
    "\toutput_vec_list = []\n",
    "\tfor line in f:\n",
    "\t\tcount += 1\n",
    "print(count)"
   ]
  },
  {
   "cell_type": "code",
   "execution_count": null,
   "metadata": {},
   "outputs": [],
   "source": []
  }
 ],
 "metadata": {
  "kernelspec": {
   "display_name": "Python 3.9.13 ('base')",
   "language": "python",
   "name": "python3"
  },
  "language_info": {
   "codemirror_mode": {
    "name": "ipython",
    "version": 3
   },
   "file_extension": ".py",
   "mimetype": "text/x-python",
   "name": "python",
   "nbconvert_exporter": "python",
   "pygments_lexer": "ipython3",
   "version": "3.9.13"
  },
  "orig_nbformat": 4,
  "vscode": {
   "interpreter": {
    "hash": "d4d1e4263499bec80672ea0156c357c1ee493ec2b1c70f0acce89fc37c4a6abe"
   }
  }
 },
 "nbformat": 4,
 "nbformat_minor": 2
}
