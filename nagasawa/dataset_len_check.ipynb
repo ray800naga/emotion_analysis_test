{
 "cells": [
  {
   "cell_type": "code",
   "execution_count": 1,
   "metadata": {},
   "outputs": [
    {
     "name": "stderr",
     "output_type": "stream",
     "text": [
      "/opt/conda/lib/python3.7/site-packages/tqdm/auto.py:22: TqdmWarning: IProgress not found. Please update jupyter and ipywidgets. See https://ipywidgets.readthedocs.io/en/stable/user_install.html\n",
      "  from .autonotebook import tqdm as notebook_tqdm\n"
     ]
    }
   ],
   "source": [
    "# %%\n",
    "import torch.nn.functional as F\n",
    "import torch\n",
    "import torch.nn as nn\n",
    "from torch.utils.data import DataLoader\n",
    "from my_module.tools import BertToEmoFileDataset, BertToEmoDirectDataset, calc_loss, EarlyStopping\n",
    "from tqdm import tqdm\n",
    "import pickle\n",
    "import datetime\n",
    "\n",
    "# %%\n",
    "# データセットの準備\n",
    "# データセットが存在するディレクトリを指定\n",
    "\n",
    "#ファイル分割バージョン(省メモリ設計)\n",
    "dataset_root_dir = \"/workspace/dataset/data_src/BERT_to_emotion/only_emotion/train/split/\"\n",
    "train_dataset = BertToEmoFileDataset(dataset_root_dir)\n",
    "dataset_root_dir = \"/workspace/dataset/data_src/BERT_to_emotion/only_emotion/val/split/\"\n",
    "val_dataset = BertToEmoFileDataset(dataset_root_dir)\n",
    "dataset_root_dir = \"/workspace/dataset/data_src/BERT_to_emotion/only_emotion/test/split/\"\n",
    "test_dataset = BertToEmoFileDataset(dataset_root_dir)"
   ]
  },
  {
   "cell_type": "code",
   "execution_count": 3,
   "metadata": {},
   "outputs": [
    {
     "name": "stdout",
     "output_type": "stream",
     "text": [
      "3866373\n",
      "210975\n",
      "212097\n"
     ]
    }
   ],
   "source": [
    "print(train_dataset.__len__())\n",
    "print(val_dataset.__len__())\n",
    "print(test_dataset.__len__())"
   ]
  },
  {
   "cell_type": "code",
   "execution_count": null,
   "metadata": {},
   "outputs": [],
   "source": []
  }
 ],
 "metadata": {
  "kernelspec": {
   "display_name": "Python 3.7.13 ('base')",
   "language": "python",
   "name": "python3"
  },
  "language_info": {
   "codemirror_mode": {
    "name": "ipython",
    "version": 3
   },
   "file_extension": ".py",
   "mimetype": "text/x-python",
   "name": "python",
   "nbconvert_exporter": "python",
   "pygments_lexer": "ipython3",
   "version": "3.7.13"
  },
  "orig_nbformat": 4,
  "vscode": {
   "interpreter": {
    "hash": "d4d1e4263499bec80672ea0156c357c1ee493ec2b1c70f0acce89fc37c4a6abe"
   }
  }
 },
 "nbformat": 4,
 "nbformat_minor": 2
}
