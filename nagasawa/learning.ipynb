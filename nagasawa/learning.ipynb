{
 "cells": [
  {
   "cell_type": "code",
   "execution_count": 1,
   "metadata": {},
   "outputs": [
    {
     "name": "stderr",
     "output_type": "stream",
     "text": [
      "/opt/conda/lib/python3.7/site-packages/tqdm/auto.py:22: TqdmWarning: IProgress not found. Please update jupyter and ipywidgets. See https://ipywidgets.readthedocs.io/en/stable/user_install.html\n",
      "  from .autonotebook import tqdm as notebook_tqdm\n"
     ]
    }
   ],
   "source": [
    "import torch.nn.functional as F\n",
    "import torch\n",
    "import torch.nn as nn\n",
    "from torch.utils.data import DataLoader\n",
    "from my_module.tools import BertToEmoFileDataset, calc_loss, EarlyStopping\n",
    "from tqdm import tqdm"
   ]
  },
  {
   "cell_type": "code",
   "execution_count": 2,
   "metadata": {},
   "outputs": [],
   "source": [
    "# ハイパーパラメータ\n",
    "batch_size = 128\n",
    "max_epoch = 10000\n",
    "\n",
    "# 設定\n",
    "num_workers = 20"
   ]
  },
  {
   "cell_type": "code",
   "execution_count": 3,
   "metadata": {},
   "outputs": [],
   "source": [
    "class Net(nn.Module):\n",
    "\n",
    "    def __init__(self):\n",
    "        super(Net, self).__init__()\n",
    "\n",
    "        self.bn = nn.BatchNorm1d(768)\n",
    "        self.fc1 = nn.Linear(768, 400)\n",
    "        self.fc2 = nn.Linear(400, 100)\n",
    "        self.fc3 = nn.Linear(100, 10)\n",
    "\n",
    "    def forward(self, x):\n",
    "        x = self.bn(x)\n",
    "        x = self.fc1(x)\n",
    "        x = F.relu(x)\n",
    "        x = self.fc2(x)\n",
    "        x = F.relu(x)\n",
    "        x = self.fc3(x)\n",
    "        return x\n"
   ]
  },
  {
   "cell_type": "code",
   "execution_count": 4,
   "metadata": {},
   "outputs": [
    {
     "name": "stdout",
     "output_type": "stream",
     "text": [
      "device: cuda:0\n"
     ]
    }
   ],
   "source": [
    "# GPUの設定状況に基づいたデバイスの選択\n",
    "device = torch.device('cuda:0' if torch.cuda.is_available() else 'cpu')\n",
    "print(\"device:\", device)\n",
    "\n",
    "# 乱数シードを固定して再現性を確保\n",
    "torch.manual_seed(0)\n",
    "\n",
    "# インスタンス化・デバイスへの転送\n",
    "net = Net().to(device)\n",
    "\n",
    "# 損失関数の選択\n",
    "criterion = nn.CrossEntropyLoss()\n",
    "\n",
    "# 最適化手法の選択\n",
    "optimizer = torch.optim.Adam(net.parameters())"
   ]
  },
  {
   "cell_type": "code",
   "execution_count": 5,
   "metadata": {},
   "outputs": [],
   "source": [
    "# Trainデータセットの準備\n",
    "# データセットが存在するディレクトリを指定\n",
    "dataset_root_dir = \"/workspace/dataset/data_src/BERT_to_emotion/only_emotion/train/split/\"\n",
    "train_dataset = BertToEmoFileDataset(dataset_root_dir)\n",
    "\n",
    "# FileDataloader\n",
    "train_dataloader = DataLoader(train_dataset, batch_size = batch_size, shuffle=True, num_workers=num_workers)"
   ]
  },
  {
   "cell_type": "code",
   "execution_count": 6,
   "metadata": {},
   "outputs": [],
   "source": [
    "# valデータセットの準備\n",
    "dataset_root_dir = \"/workspace/dataset/data_src/BERT_to_emotion/only_emotion/val/split/\"\n",
    "val_dataset = BertToEmoFileDataset(dataset_root_dir)\n",
    "\n",
    "val_dataloader = DataLoader(val_dataset, batch_size = batch_size, num_workers=num_workers)"
   ]
  },
  {
   "cell_type": "code",
   "execution_count": 7,
   "metadata": {},
   "outputs": [],
   "source": [
    "# testデータセットの準備\n",
    "dataset_root_dir = \"/workspace/dataset/data_src/BERT_to_emotion/only_emotion/test/split/\"\n",
    "test_dataset = BertToEmoFileDataset(dataset_root_dir)\n",
    "\n",
    "test_dataloader = DataLoader(test_dataset, batch_size = batch_size, num_workers=num_workers)"
   ]
  },
  {
   "cell_type": "code",
   "execution_count": 8,
   "metadata": {},
   "outputs": [],
   "source": [
    "# early stopping\n",
    "earlystopping  = EarlyStopping(patience=5, verbose=True)"
   ]
  },
  {
   "cell_type": "code",
   "execution_count": 9,
   "metadata": {},
   "outputs": [
    {
     "name": "stdout",
     "output_type": "stream",
     "text": [
      "epoch: 0\n"
     ]
    },
    {
     "name": "stderr",
     "output_type": "stream",
     "text": [
      "  0%|          | 0/30207 [00:00<?, ?it/s]"
     ]
    }
   ],
   "source": [
    "# ネットワークの学習\n",
    "for epoch in range(max_epoch):\n",
    "\tprint(\"epoch:\", epoch)\n",
    "\tloss_list = []\n",
    "\tfor batch in tqdm(train_dataloader):\n",
    "\t\tx, t = batch\n",
    "\n",
    "\t\tx = x.to(device)\n",
    "\t\tt = t.to(device)\n",
    "\n",
    "\t\toptimizer.zero_grad()\n",
    "\n",
    "\t\ty = net(x)\n",
    "\n",
    "\t\tloss = criterion(y, t)\n",
    "\n",
    "\t\tloss.backward()\n",
    "\n",
    "\t\tloss_list.append(loss)\n",
    "\n",
    "\t\toptimizer.step()\n",
    "\t\t\n",
    "\ttrain_loss_avg = torch.tensor(loss_list).mean()\n",
    "\tprint(\"val_loss calc...\")\n",
    "\tval_loss_avg = calc_loss(net, val_dataloader, criterion, device)\n",
    "\tprint(\"train_loss: {}, val_loss: {}\".format(train_loss_avg, val_loss_avg))\n",
    "\tearlystopping(val_loss_avg, net) #callメソッド呼び出し\n",
    "\tif earlystopping.early_stop: #ストップフラグがTrueの場合、breakでforループを抜ける\n",
    "\t\tprint(\"Early Stopping!\")\n",
    "\t\tbreak"
   ]
  },
  {
   "cell_type": "code",
   "execution_count": null,
   "metadata": {},
   "outputs": [
    {
     "name": "stderr",
     "output_type": "stream",
     "text": [
      "100%|██████████| 413/413 [00:08<00:00, 46.37it/s]"
     ]
    },
    {
     "name": "stdout",
     "output_type": "stream",
     "text": [
      "test_loss: 1.1091647148132324\n",
      "done!\n"
     ]
    },
    {
     "name": "stderr",
     "output_type": "stream",
     "text": [
      "\n"
     ]
    }
   ],
   "source": [
    "test_loss_avg = calc_loss(net, val_dataloader, criterion, device)\n",
    "print(\"test_loss: {}\".format(test_loss_avg))\n",
    "print(\"done!\")"
   ]
  },
  {
   "cell_type": "code",
   "execution_count": null,
   "metadata": {},
   "outputs": [],
   "source": []
  }
 ],
 "metadata": {
  "kernelspec": {
   "display_name": "Python 3.9.13 ('base')",
   "language": "python",
   "name": "python3"
  },
  "language_info": {
   "codemirror_mode": {
    "name": "ipython",
    "version": 3
   },
   "file_extension": ".py",
   "mimetype": "text/x-python",
   "name": "python",
   "nbconvert_exporter": "python",
   "pygments_lexer": "ipython3",
   "version": "3.7.13"
  },
  "orig_nbformat": 4,
  "vscode": {
   "interpreter": {
    "hash": "d4d1e4263499bec80672ea0156c357c1ee493ec2b1c70f0acce89fc37c4a6abe"
   }
  }
 },
 "nbformat": 4,
 "nbformat_minor": 2
}
