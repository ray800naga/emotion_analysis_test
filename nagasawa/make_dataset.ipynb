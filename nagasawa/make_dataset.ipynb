{
 "cells": [
  {
   "cell_type": "code",
   "execution_count": 1,
   "metadata": {},
   "outputs": [
    {
     "name": "stderr",
     "output_type": "stream",
     "text": [
      "/usr/local/lib/python3.6/dist-packages/tqdm/auto.py:22: TqdmWarning: IProgress not found. Please update jupyter and ipywidgets. See https://ipywidgets.readthedocs.io/en/stable/user_install.html\n",
      "  from .autonotebook import tqdm as notebook_tqdm\n"
     ]
    }
   ],
   "source": [
    "import tensorflow_datasets as tfds"
   ]
  },
  {
   "cell_type": "code",
   "execution_count": 2,
   "metadata": {},
   "outputs": [
    {
     "name": "stdout",
     "output_type": "stream",
     "text": [
      "\u001b[1mDownloading and preparing dataset wiki40b/ja/1.3.0 (download: Unknown size, generated: 2.19 GiB, total: 2.19 GiB) to /root/tensorflow_datasets/wiki40b/ja/1.3.0...\u001b[0m\n"
     ]
    },
    {
     "name": "stderr",
     "output_type": "stream",
     "text": [
      "WARNING:absl:Dataset wiki40b is hosted on GCS. It will automatically be downloaded to your\n",
      "local data directory. If you'd instead prefer to read directly from our public\n",
      "GCS bucket (recommended if you're running on GCP), you can instead pass\n",
      "`try_gcs=True` to `tfds.load` or set `data_dir=gs://tfds-data/datasets`.\n",
      "\n",
      "Dl Completed...: 100%|██████████| 20/20 [00:21<00:00,  1.08s/ file]\n"
     ]
    },
    {
     "name": "stdout",
     "output_type": "stream",
     "text": [
      "\n",
      "\u001b[1mDataset wiki40b downloaded and prepared to /root/tensorflow_datasets/wiki40b/ja/1.3.0. Subsequent calls will reuse this data.\u001b[0m\n"
     ]
    }
   ],
   "source": [
    "# wiki-40Bのダウンロード\n",
    "ds_test = tfds.load('wiki40b/ja', split='test')"
   ]
  },
  {
   "cell_type": "code",
   "execution_count": 3,
   "metadata": {},
   "outputs": [],
   "source": [
    "ds_val = tfds.load('wiki40b/ja', split='validation')\n",
    "ds_train = tfds.load('wiki40b/ja', split='train')"
   ]
  },
  {
   "cell_type": "code",
   "execution_count": 4,
   "metadata": {},
   "outputs": [],
   "source": [
    "import os\n",
    "def create_txt(file_name, tf_data):\n",
    "    start_paragraph = False\n",
    "\n",
    "    # ファイルの書き込み\n",
    "    with open(file_name, 'w') as f:\n",
    "        for wiki in tf_data.as_numpy_iterator():\n",
    "            for text in wiki['text'].decode().split('\\n'):\n",
    "                if start_paragraph:\n",
    "                    text = text.replace('_NEWLINE_', '') # _NEWLINE_は削除\n",
    "                    f.write(text + '\\n')\n",
    "                    start_paragraph = False\n",
    "                if text == '_START_PARAGRAPH_': # _START_PARAGRAPH_のみ取得\n",
    "                    start_paragraph = True"
   ]
  },
  {
   "cell_type": "code",
   "execution_count": 5,
   "metadata": {},
   "outputs": [],
   "source": [
    "create_txt('wiki_40b_train.txt', ds_train)\n",
    "create_txt('wiki_40b_val.txt', ds_val)\n",
    "create_txt('wiki_40b_test.txt', ds_test)"
   ]
  }
 ],
 "metadata": {
  "kernelspec": {
   "display_name": "Python 3.7.13 ('base')",
   "language": "python",
   "name": "python3"
  },
  "language_info": {
   "codemirror_mode": {
    "name": "ipython",
    "version": 3
   },
   "file_extension": ".py",
   "mimetype": "text/x-python",
   "name": "python",
   "nbconvert_exporter": "python",
   "pygments_lexer": "ipython3",
   "version": "3.7.13"
  },
  "orig_nbformat": 4,
  "vscode": {
   "interpreter": {
    "hash": "d4d1e4263499bec80672ea0156c357c1ee493ec2b1c70f0acce89fc37c4a6abe"
   }
  }
 },
 "nbformat": 4,
 "nbformat_minor": 2
}
