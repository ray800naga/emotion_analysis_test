{
 "cells": [
  {
   "cell_type": "code",
   "execution_count": 1,
   "metadata": {},
   "outputs": [
    {
     "name": "stderr",
     "output_type": "stream",
     "text": [
      "/opt/conda/lib/python3.7/site-packages/tqdm/auto.py:22: TqdmWarning: IProgress not found. Please update jupyter and ipywidgets. See https://ipywidgets.readthedocs.io/en/stable/user_install.html\n",
      "  from .autonotebook import tqdm as notebook_tqdm\n"
     ]
    }
   ],
   "source": [
    "import torch\n",
    "from transformers import BertJapaneseTokenizer, BertModel\n",
    "import ipadic\n",
    "from tqdm import tqdm"
   ]
  },
  {
   "cell_type": "code",
   "execution_count": 2,
   "metadata": {},
   "outputs": [],
   "source": [
    "# 4-3\n",
    "model_name = 'cl-tohoku/bert-base-japanese-whole-word-masking'\n",
    "tokenizer = BertJapaneseTokenizer.from_pretrained(model_name)"
   ]
  },
  {
   "cell_type": "code",
   "execution_count": 3,
   "metadata": {},
   "outputs": [],
   "source": [
    "# text_listに格納\n",
    "# with open('data_src/wiki40b_with_emotion/wiki_40b_train_with_emotion.txt', 'r') as f_read:\n",
    "#     text_list = []\n",
    "#     for line in f_read:\n",
    "#         text_list.append(line)\n",
    "# print(len(text_list))"
   ]
  },
  {
   "cell_type": "code",
   "execution_count": 4,
   "metadata": {},
   "outputs": [],
   "source": [
    "import torch\n",
    "from torch.utils.data import DataLoader\n",
    "from my_module.tools import TokenListFileDataset\n",
    "# 文章の符号化\n",
    "\n",
    "text_file_dir = \"/workspace/emotion_analysis_test/nagasawa/data_src/wiki40b_with_emotion/train/split/\"\n",
    "file_dataset = TokenListFileDataset(text_file_dir, tokenizer)\n",
    "\n",
    "# dataset_for_loader = []\n",
    "# count = 0 # for debug\n",
    "# for text in tqdm(text_list):\n",
    "#     encoding = tokenizer(\n",
    "#         text,\n",
    "#         max_length=128,\n",
    "#         padding='max_length',\n",
    "#         truncation=True\n",
    "#     )\n",
    "#     encoding = { k: torch.tensor(v) for k, v in encoding.items() }\n",
    "#     dataset_for_loader.append(encoding)\n",
    "#     # count += 1 # for debug\n",
    "#     # if count == 100:\n",
    "#     #     break"
   ]
  },
  {
   "cell_type": "code",
   "execution_count": 5,
   "metadata": {},
   "outputs": [],
   "source": [
    "# FileDataLoader生成\n",
    "file_loader = DataLoader(file_dataset)"
   ]
  },
  {
   "cell_type": "code",
   "execution_count": 6,
   "metadata": {},
   "outputs": [],
   "source": [
    "# DataLoader動作確認\n",
    "# for idx, batch in enumerate(file_loader):\n",
    "#     print(\"batch:\", idx)\n",
    "#     print(batch[0][\"input_ids\"].size())"
   ]
  },
  {
   "cell_type": "code",
   "execution_count": 7,
   "metadata": {},
   "outputs": [
    {
     "name": "stderr",
     "output_type": "stream",
     "text": [
      "Some weights of the model checkpoint at cl-tohoku/bert-base-japanese-whole-word-masking were not used when initializing BertModel: ['cls.predictions.bias', 'cls.predictions.transform.dense.weight', 'cls.predictions.transform.dense.bias', 'cls.seq_relationship.weight', 'cls.seq_relationship.bias', 'cls.predictions.transform.LayerNorm.bias', 'cls.predictions.transform.LayerNorm.weight', 'cls.predictions.decoder.weight']\n",
      "- This IS expected if you are initializing BertModel from the checkpoint of a model trained on another task or with another architecture (e.g. initializing a BertForSequenceClassification model from a BertForPreTraining model).\n",
      "- This IS NOT expected if you are initializing BertModel from the checkpoint of a model that you expect to be exactly identical (initializing a BertForSequenceClassification model from a BertForSequenceClassification model).\n"
     ]
    }
   ],
   "source": [
    "bert = BertModel.from_pretrained(model_name)\n",
    "\n",
    "bert = bert.cuda()"
   ]
  },
  {
   "cell_type": "code",
   "execution_count": 8,
   "metadata": {},
   "outputs": [
    {
     "name": "stdout",
     "output_type": "stream",
     "text": [
      "file_count: 1 / 19\n"
     ]
    },
    {
     "name": "stderr",
     "output_type": "stream",
     "text": [
      "  5%|▍         | 29/586 [03:25<1:05:52,  7.10s/it]\n"
     ]
    },
    {
     "ename": "KeyboardInterrupt",
     "evalue": "",
     "output_type": "error",
     "traceback": [
      "\u001b[0;31m---------------------------------------------------------------------------\u001b[0m",
      "\u001b[0;31mKeyboardInterrupt\u001b[0m                         Traceback (most recent call last)",
      "\u001b[1;32mセル8 を /workspace/emotion_analysis_test/nagasawa/make_dataset_BERT_to_emoion_vector.ipynb\u001b[0m in \u001b[0;36m<cell line: 4>\u001b[0;34m()\u001b[0m\n\u001b[1;32m     <a href='vscode-notebook-cell://attached-container%2B7b22636f6e7461696e65724e616d65223a222f77616e77616e5f6c696768746e696e675f666f725f6c6561726e696e67227d/workspace/emotion_analysis_test/nagasawa/make_dataset_BERT_to_emoion_vector.ipynb#X10sdnNjb2RlLXJlbW90ZQ%3D%3D?line=16'>17</a>\u001b[0m output \u001b[39m=\u001b[39m bert(\u001b[39m*\u001b[39m\u001b[39m*\u001b[39mbatch)\n\u001b[1;32m     <a href='vscode-notebook-cell://attached-container%2B7b22636f6e7461696e65724e616d65223a222f77616e77616e5f6c696768746e696e675f666f725f6c6561726e696e67227d/workspace/emotion_analysis_test/nagasawa/make_dataset_BERT_to_emoion_vector.ipynb#X10sdnNjb2RlLXJlbW90ZQ%3D%3D?line=17'>18</a>\u001b[0m last_hidden_state \u001b[39m=\u001b[39m output\u001b[39m.\u001b[39mlast_hidden_state\n\u001b[0;32m---> <a href='vscode-notebook-cell://attached-container%2B7b22636f6e7461696e65724e616d65223a222f77616e77616e5f6c696768746e696e675f666f725f6c6561726e696e67227d/workspace/emotion_analysis_test/nagasawa/make_dataset_BERT_to_emoion_vector.ipynb#X10sdnNjb2RlLXJlbW90ZQ%3D%3D?line=18'>19</a>\u001b[0m last_hidden_state \u001b[39m=\u001b[39m last_hidden_state\u001b[39m.\u001b[39;49mcpu()\u001b[39m.\u001b[39mnumpy()\u001b[39m.\u001b[39mtolist()\n\u001b[1;32m     <a href='vscode-notebook-cell://attached-container%2B7b22636f6e7461696e65724e616d65223a222f77616e77616e5f6c696768746e696e675f666f725f6c6561726e696e67227d/workspace/emotion_analysis_test/nagasawa/make_dataset_BERT_to_emoion_vector.ipynb#X10sdnNjb2RlLXJlbW90ZQ%3D%3D?line=19'>20</a>\u001b[0m batch \u001b[39m=\u001b[39m {k: v\u001b[39m.\u001b[39mcpu()\u001b[39m.\u001b[39mnumpy()\u001b[39m.\u001b[39mtolist() \u001b[39mfor\u001b[39;00m k, v \u001b[39min\u001b[39;00m batch\u001b[39m.\u001b[39mitems()}\n\u001b[1;32m     <a href='vscode-notebook-cell://attached-container%2B7b22636f6e7461696e65724e616d65223a222f77616e77616e5f6c696768746e696e675f666f725f6c6561726e696e67227d/workspace/emotion_analysis_test/nagasawa/make_dataset_BERT_to_emoion_vector.ipynb#X10sdnNjb2RlLXJlbW90ZQ%3D%3D?line=20'>21</a>\u001b[0m executor\u001b[39m.\u001b[39msubmit(get_dataset_from_batch, batch, last_hidden_state, file_count, batch_count, output_name_head)\n",
      "\u001b[0;31mKeyboardInterrupt\u001b[0m: "
     ]
    }
   ],
   "source": [
    "from my_module.tools import get_dataset_from_batch\n",
    "from concurrent.futures import ProcessPoolExecutor\n",
    "count = 0\n",
    "with torch.no_grad():\n",
    "    # データセット出力先を指定\n",
    "    output_name_head = '/workspace/emotion_analysis_test/nagasawa/data_src/BERT_to_emotion/only_emotion/train/BERT_to_emo_train_'\n",
    "    file_count = 1\n",
    "    with ProcessPoolExecutor(max_workers=2) as executor:\n",
    "        for file in file_loader:\n",
    "            print(\"file_count: {} / {}\".format(file_count, file_loader.__len__()))\n",
    "            batch_loader = DataLoader(file, batch_size=256)\n",
    "            batch_count = 1\n",
    "            for batch in tqdm(batch_loader):\n",
    "                # データをGPUに乗せる\n",
    "                batch = {k: v.squeeze().cuda() for k, v in batch.items()}\n",
    "                # BERTでの処理\n",
    "                output = bert(**batch)\n",
    "                last_hidden_state = output.last_hidden_state\n",
    "                last_hidden_state = last_hidden_state.cpu().numpy().tolist()\n",
    "                batch = {k: v.cpu().numpy().tolist() for k, v in batch.items()}\n",
    "                executor.submit(get_dataset_from_batch, batch, last_hidden_state, file_count, batch_count, output_name_head)\n",
    "                batch_count += 1\n",
    "            file_count += 1\n",
    "print('done!')"
   ]
  },
  {
   "cell_type": "code",
   "execution_count": null,
   "metadata": {},
   "outputs": [],
   "source": []
  }
 ],
 "metadata": {
  "kernelspec": {
   "display_name": "Python 3.7.13 ('base')",
   "language": "python",
   "name": "python3"
  },
  "language_info": {
   "codemirror_mode": {
    "name": "ipython",
    "version": 3
   },
   "file_extension": ".py",
   "mimetype": "text/x-python",
   "name": "python",
   "nbconvert_exporter": "python",
   "pygments_lexer": "ipython3",
   "version": "3.7.13"
  },
  "orig_nbformat": 4,
  "vscode": {
   "interpreter": {
    "hash": "d4d1e4263499bec80672ea0156c357c1ee493ec2b1c70f0acce89fc37c4a6abe"
   }
  }
 },
 "nbformat": 4,
 "nbformat_minor": 2
}
