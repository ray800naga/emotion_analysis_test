{
 "cells": [
  {
   "cell_type": "code",
   "execution_count": null,
   "metadata": {},
   "outputs": [],
   "source": [
    "import torch\n",
    "from transformers import BertJapaneseTokenizer, BertModel\n",
    "import ipadic\n",
    "from tqdm import tqdm"
   ]
  },
  {
   "cell_type": "code",
   "execution_count": null,
   "metadata": {},
   "outputs": [],
   "source": [
    "# 4-3\n",
    "model_name = 'cl-tohoku/bert-base-japanese-whole-word-masking'\n",
    "tokenizer = BertJapaneseTokenizer.from_pretrained(model_name)"
   ]
  },
  {
   "cell_type": "code",
   "execution_count": null,
   "metadata": {},
   "outputs": [],
   "source": [
    "# text_listに格納\n",
    "# with open('data_src/wiki40b_with_emotion/wiki_40b_train_with_emotion.txt', 'r') as f_read:\n",
    "#     text_list = []\n",
    "#     for line in f_read:\n",
    "#         text_list.append(line)\n",
    "# print(len(text_list))"
   ]
  },
  {
   "cell_type": "code",
   "execution_count": null,
   "metadata": {},
   "outputs": [],
   "source": [
    "import torch\n",
    "from torch.utils.data import DataLoader\n",
    "from my_module.tools import TokenListFileDataset\n",
    "# 文章の符号化\n",
    "\n",
    "text_file_dir = \"/workspace/emotion_analysis_test/nagasawa/data_src/wiki40b_with_emotion/train/split/\"\n",
    "file_dataset = TokenListFileDataset(text_file_dir, tokenizer)\n",
    "\n",
    "# dataset_for_loader = []\n",
    "# count = 0 # for debug\n",
    "# for text in tqdm(text_list):\n",
    "#     encoding = tokenizer(\n",
    "#         text,\n",
    "#         max_length=128,\n",
    "#         padding='max_length',\n",
    "#         truncation=True\n",
    "#     )\n",
    "#     encoding = { k: torch.tensor(v) for k, v in encoding.items() }\n",
    "#     dataset_for_loader.append(encoding)\n",
    "#     # count += 1 # for debug\n",
    "#     # if count == 100:\n",
    "#     #     break"
   ]
  },
  {
   "cell_type": "code",
   "execution_count": null,
   "metadata": {},
   "outputs": [],
   "source": [
    "# FileDataLoader生成\n",
    "file_loader = DataLoader(file_dataset)"
   ]
  },
  {
   "cell_type": "code",
   "execution_count": null,
   "metadata": {},
   "outputs": [],
   "source": [
    "# DataLoader動作確認\n",
    "# for idx, batch in enumerate(file_loader):\n",
    "#     print(\"batch:\", idx)\n",
    "#     print(batch[0][\"input_ids\"].size())"
   ]
  },
  {
   "cell_type": "code",
   "execution_count": null,
   "metadata": {},
   "outputs": [],
   "source": [
    "bert = BertModel.from_pretrained(model_name)\n",
    "\n",
    "bert = bert.cuda()"
   ]
  },
  {
   "cell_type": "code",
   "execution_count": null,
   "metadata": {},
   "outputs": [],
   "source": [
    "# from my_module.tools import get_dataset_from_batch\n",
    "# from concurrent.futures import ProcessPoolExecutor\n",
    "# count = 0\n",
    "# with torch.no_grad():\n",
    "#     # データセット出力先を指定\n",
    "#     output_name_head = '/workspace/emotion_analysis_test/nagasawa/data_src/BERT_to_emotion/only_emotion/train/BERT_to_emo_train_'\n",
    "#     file_count = 1\n",
    "#     with ProcessPoolExecutor(max_workers=2) as executor:\n",
    "#         for file in file_loader:\n",
    "#             print(\"file_count: {} / {}\".format(file_count, file_loader.__len__()))\n",
    "#             batch_loader = DataLoader(file, batch_size=256)\n",
    "#             batch_count = 1\n",
    "#             for batch in tqdm(batch_loader):\n",
    "#                 # データをGPUに乗せる\n",
    "#                 batch = {k: v.squeeze().cuda() for k, v in batch.items()}\n",
    "#                 # BERTでの処理\n",
    "#                 output = bert(**batch)\n",
    "#                 last_hidden_state = output.last_hidden_state\n",
    "#                 last_hidden_state = last_hidden_state.cpu().numpy().tolist()\n",
    "#                 batch = {k: v.cpu().numpy().tolist() for k, v in batch.items()}\n",
    "#                 executor.submit(get_dataset_from_batch, batch, last_hidden_state, file_count, batch_count, output_name_head)\n",
    "#                 batch_count += 1\n",
    "#             file_count += 1\n",
    "# print('done!')"
   ]
  },
  {
   "cell_type": "code",
   "execution_count": null,
   "metadata": {},
   "outputs": [],
   "source": [
    "from my_module.tools import get_dataset_from_batch\n",
    "from concurrent.futures import ProcessPoolExecutor\n",
    "count = 0\n",
    "with torch.no_grad():\n",
    "    # データセット出力先を指定\n",
    "    output_name_head = '/workspace/emotion_analysis_test/nagasawa/data_src/BERT_to_emotion/window_3/train/BERT_to_emo_train_'\n",
    "    file_count = 1\n",
    "    with ProcessPoolExecutor(max_workers=2) as executor:\n",
    "        for file in file_loader:\n",
    "            print(\"file_count: {} / {}\".format(file_count, file_loader.__len__()))\n",
    "            batch_loader = DataLoader(file, batch_size=256)\n",
    "            batch_count = 1\n",
    "            for batch in tqdm(batch_loader):\n",
    "                # データをGPUに乗せる\n",
    "                encoding_list, text_list = batch\n",
    "                encoding_list = {k: v.squeeze().cuda() for k, v in encoding_list.items()}\n",
    "                # BERTでの処理\n",
    "                output = bert(**encoding_list)\n",
    "                last_hidden_state = output.last_hidden_state\n",
    "                last_hidden_state = last_hidden_state.cpu().numpy().tolist()\n",
    "                encoding_list = {k: v.cpu().numpy().tolist() for k, v in encoding_list.items()}\n",
    "                executor.submit(get_dataset_from_batch, encoding_list, text_list, last_hidden_state, file_count, batch_count, output_name_head)\n",
    "                batch_count += 1\n",
    "            file_count += 1\n",
    "print('done!')"
   ]
  }
 ],
 "metadata": {
  "kernelspec": {
   "display_name": "Python 3.7.13 ('base')",
   "language": "python",
   "name": "python3"
  },
  "language_info": {
   "codemirror_mode": {
    "name": "ipython",
    "version": 3
   },
   "file_extension": ".py",
   "mimetype": "text/x-python",
   "name": "python",
   "nbconvert_exporter": "python",
   "pygments_lexer": "ipython3",
   "version": "3.7.13"
  },
  "orig_nbformat": 4,
  "vscode": {
   "interpreter": {
    "hash": "d4d1e4263499bec80672ea0156c357c1ee493ec2b1c70f0acce89fc37c4a6abe"
   }
  }
 },
 "nbformat": 4,
 "nbformat_minor": 2
}
