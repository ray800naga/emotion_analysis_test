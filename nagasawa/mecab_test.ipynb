{
 "cells": [
  {
   "cell_type": "code",
   "execution_count": 3,
   "metadata": {},
   "outputs": [],
   "source": [
    "from transformers import BertJapaneseTokenizer\n",
    "from MeCab import Tagger\n",
    "import ipadic\n",
    "\n",
    "model_name = 'cl-tohoku/bert-base-japanese-whole-word-masking'\n",
    "tokenizer = BertJapaneseTokenizer.from_pretrained(model_name)\n",
    "tagger = Tagger(ipadic.MECAB_ARGS)"
   ]
  },
  {
   "cell_type": "code",
   "execution_count": 6,
   "metadata": {},
   "outputs": [
    {
     "name": "stdout",
     "output_type": "stream",
     "text": [
      "['今日\\t名詞,副詞可能,*,*,*,*,今日,キョウ,キョー', 'も\\t助詞,係助詞,*,*,*,*,も,モ,モ', 'マシンラーニング\\t名詞,一般,*,*,*,*,*', 'を\\t助詞,格助詞,一般,*,*,*,を,ヲ,ヲ', '勉強\\t名詞,サ変接続,*,*,*,*,勉強,ベンキョウ,ベンキョー', 'し\\t動詞,自立,*,*,サ変・スル,連用形,する,シ,シ', 'ます\\t助動詞,*,*,*,特殊・マス,基本形,ます,マス,マス', '。\\t記号,句点,*,*,*,*,。,。,。', 'EOS', '']\n"
     ]
    }
   ],
   "source": [
    "text = input(\"テキストを入力\")\n",
    "taggers = tagger.parse(text).split(\"\\n\")\n",
    "print(taggers)"
   ]
  },
  {
   "cell_type": "code",
   "execution_count": 7,
   "metadata": {},
   "outputs": [
    {
     "name": "stdout",
     "output_type": "stream",
     "text": [
      "['今日', 'も', 'マシン', '##ラー', '##ニング', 'を', '勉強', 'し', 'ます', '。']\n"
     ]
    }
   ],
   "source": [
    "tokens = tokenizer.tokenize(text)\n",
    "print(tokens)"
   ]
  },
  {
   "cell_type": "code",
   "execution_count": null,
   "metadata": {},
   "outputs": [],
   "source": []
  }
 ],
 "metadata": {
  "kernelspec": {
   "display_name": "Python 3.7.13 ('base')",
   "language": "python",
   "name": "python3"
  },
  "language_info": {
   "codemirror_mode": {
    "name": "ipython",
    "version": 3
   },
   "file_extension": ".py",
   "mimetype": "text/x-python",
   "name": "python",
   "nbconvert_exporter": "python",
   "pygments_lexer": "ipython3",
   "version": "3.7.13"
  },
  "orig_nbformat": 4,
  "vscode": {
   "interpreter": {
    "hash": "d4d1e4263499bec80672ea0156c357c1ee493ec2b1c70f0acce89fc37c4a6abe"
   }
  }
 },
 "nbformat": 4,
 "nbformat_minor": 2
}
