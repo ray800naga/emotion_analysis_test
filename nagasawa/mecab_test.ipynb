{
 "cells": [
  {
   "cell_type": "code",
   "execution_count": 10,
   "metadata": {},
   "outputs": [],
   "source": [
    "from transformers import BertJapaneseTokenizer\n",
    "from MeCab import Tagger\n",
    "import ipadic\n",
    "\n",
    "model_name = 'cl-tohoku/bert-base-japanese-whole-word-masking'\n",
    "tokenizer = BertJapaneseTokenizer.from_pretrained(model_name)\n",
    "tagger = Tagger(ipadic.MECAB_ARGS)"
   ]
  },
  {
   "cell_type": "code",
   "execution_count": 14,
   "metadata": {},
   "outputs": [
    {
     "name": "stdout",
     "output_type": "stream",
     "text": [
      "['今日\\t名詞,副詞可能,*,*,*,*,今日,キョウ,キョー', 'も\\t助詞,係助詞,*,*,*,*,も,モ,モ', 'いい\\t形容詞,自立,*,*,形容詞・イイ,基本形,いい,イイ,イイ', '天気\\t名詞,一般,*,*,*,*,天気,テンキ,テンキ', 'だっ\\t助動詞,*,*,*,特殊・ダ,連用タ接続,だ,ダッ,ダッ', 'た\\t助動詞,*,*,*,特殊・タ,基本形,た,タ,タ', '。\\t記号,句点,*,*,*,*,。,。,。', 'EOS', '']\n",
      "9\n"
     ]
    }
   ],
   "source": [
    "text = input(\"テキストを入力\")\n",
    "taggers = tagger.parse(text).split(\"\\n\")\n",
    "print(taggers)\n",
    "print(len(taggers))"
   ]
  },
  {
   "cell_type": "code",
   "execution_count": 12,
   "metadata": {},
   "outputs": [
    {
     "name": "stdout",
     "output_type": "stream",
     "text": [
      "['悲', '##しかっ']\n"
     ]
    }
   ],
   "source": [
    "tokens = tokenizer.tokenize(text)\n",
    "print(tokens)"
   ]
  },
  {
   "cell_type": "code",
   "execution_count": 13,
   "metadata": {},
   "outputs": [
    {
     "name": "stdout",
     "output_type": "stream",
     "text": [
      "悲しい\n"
     ]
    }
   ],
   "source": [
    "from my_module.tools import get_genkei\n",
    "print(get_genkei(text, tagger))"
   ]
  },
  {
   "cell_type": "code",
   "execution_count": null,
   "metadata": {},
   "outputs": [],
   "source": []
  }
 ],
 "metadata": {
  "kernelspec": {
   "display_name": "Python 3.7.13 ('base')",
   "language": "python",
   "name": "python3"
  },
  "language_info": {
   "codemirror_mode": {
    "name": "ipython",
    "version": 3
   },
   "file_extension": ".py",
   "mimetype": "text/x-python",
   "name": "python",
   "nbconvert_exporter": "python",
   "pygments_lexer": "ipython3",
   "version": "3.7.13"
  },
  "orig_nbformat": 4,
  "vscode": {
   "interpreter": {
    "hash": "d4d1e4263499bec80672ea0156c357c1ee493ec2b1c70f0acce89fc37c4a6abe"
   }
  }
 },
 "nbformat": 4,
 "nbformat_minor": 2
}
