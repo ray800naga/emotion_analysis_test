{
 "cells": [
  {
   "cell_type": "markdown",
   "metadata": {},
   "source": [
    "テキストの分かち書きを行う"
   ]
  },
  {
   "cell_type": "code",
   "execution_count": null,
   "metadata": {},
   "outputs": [],
   "source": [
    "import MeCab\n",
    "import os\n",
    "import tqdm\n",
    "import re"
   ]
  },
  {
   "cell_type": "code",
   "execution_count": null,
   "metadata": {},
   "outputs": [],
   "source": [
    "# 入力されたテキストを分かち書きし、ノイズを除去してリスト化\n",
    "def make_wakati_list_no_noize(str):\n",
    "    # chasen: 品詞など、詳細情報を表示\n",
    "    m_chasen = MeCab.Tagger()\n",
    "\n",
    "    # wakati: シンプルに分かち書きしたものを出力\n",
    "    m_wakati = MeCab.Tagger(\"-Owakati\")\n",
    "\n",
    "    # 分かち書き\n",
    "    line_wakati = m_wakati.parse(str)\n",
    "    # print('分かち書きした原文\\n', line_wakati)\n",
    "\n",
    "    # 記号・アルファベットの除去\n",
    "    line_wakati = re.sub(re.compile(\"[!-/:-~]\"), \"\", line_wakati)\n",
    "    # print('記号除去\\n', line_wakati)\n",
    "\n",
    "    # 数字の除去\n",
    "    line_wakati = re.sub(re.compile(\"[0-9]\"), \"\", line_wakati)\n",
    "    # print('数字除去\\n', line_wakati)\n",
    "\n",
    "    # 句読点の除去\n",
    "    line_wakati = re.sub(re.compile(\"[。、]\"), \"\", line_wakati)\n",
    "    # print('句読点除去\\n', line_wakati)\n",
    "\n",
    "    # リスト化\n",
    "    wakati_list = line_wakati.split()\n",
    "    # print('リスト\\n', wakati_list)\n",
    "    \n",
    "    return wakati_list"
   ]
  },
  {
   "cell_type": "code",
   "execution_count": null,
   "metadata": {},
   "outputs": [],
   "source": [
    "condition = 'condition_nagasawa_test'   # データ生成の条件\n",
    "data_src = './data_src/'                # データ入力元\n",
    "datadir = './data/' + condition + '/'   # データ出力先\n",
    "print(os.getcwd())                      # 現在の作業ディレクトリ表示"
   ]
  },
  {
   "cell_type": "code",
   "execution_count": null,
   "metadata": {},
   "outputs": [],
   "source": [
    "target = 'ja.wiki-1'    # 分かち書きの対象となるファイル"
   ]
  },
  {
   "cell_type": "code",
   "execution_count": null,
   "metadata": {},
   "outputs": [],
   "source": [
    "# 残す品詞の指定\n",
    "non_stop_word = ['動詞', '名詞', '形容詞', '形容動詞']\n",
    "\n",
    "# ストップ品詞の指定\n",
    "stop_jouken = ['代名詞', '接尾', '非自立', '数']\n",
    "\n",
    "# ストップワードの指定\n",
    "stop_word = ['する', 'いる', 'ある', 'なる', 'ない', 'できる', 'おり', '行う', 'ば', 'ら']"
   ]
  },
  {
   "cell_type": "code",
   "execution_count": null,
   "metadata": {},
   "outputs": [],
   "source": [
    "# chasen: 品詞など、詳細情報を表示\n",
    "m_chasen = MeCab.Tagger()\n",
    "\n",
    "# wakati: シンプルに分かち書きしたものを出力\n",
    "m_wakati = MeCab.Tagger(\"-Owakati\")\n",
    "\n",
    "# コード内の文字エンコードで初期化される(?)　エラー回避のため\n",
    "m_chasen.parse('')\n",
    "m_wakati.parse('')"
   ]
  },
  {
   "cell_type": "code",
   "execution_count": null,
   "metadata": {},
   "outputs": [],
   "source": [
    "# 読み込むファイルを開く\n",
    "f_src = open(data_src + 'ja.wiki-1', 'r', encoding='utf-8')\n",
    "\n",
    "# 書き込むファイルを開く\n",
    "f_dst = open(datadir + 'wakati_' + target, 'w', encoding='utf-8')"
   ]
  },
  {
   "cell_type": "code",
   "execution_count": null,
   "metadata": {},
   "outputs": [],
   "source": [
    "# ファイルの行数を取得\n",
    "line_num = 60905911\n",
    "\"\"\"for line in f_src:\n",
    "    line_num += 1\n",
    "print(line_num)\"\"\""
   ]
  },
  {
   "cell_type": "code",
   "execution_count": null,
   "metadata": {},
   "outputs": [],
   "source": [
    "for line in f_src:\n",
    "    wakati_list = make_wakati_list_no_noize(line)\n",
    "    for word in wakati_list:\n",
    "        # chasenの出力をリストに変換\n",
    "        word_chasen = re.split('[,\\t]', m_chasen.parse(word))\n",
    "        print(word_chasen)\n",
    "        if len(word_chasen) >= 5:\n",
    "            # 原型がstop_wordに含まれていない\n",
    "            if word_chasen[7] not in stop_word:\n",
    "                print(word_chasen[1], word_chasen[2])\n",
    "                if (word_chasen[1] in non_stop_word) and (word_chasen[2] not in stop_jouken):\n",
    "                    f_dst.write(word_chasen[7] + ' ')"
   ]
  },
  {
   "cell_type": "code",
   "execution_count": null,
   "metadata": {},
   "outputs": [],
   "source": [
    "f_src.close()\n",
    "f_dst.close()"
   ]
  },
  {
   "cell_type": "code",
   "execution_count": null,
   "metadata": {},
   "outputs": [],
   "source": []
  }
 ],
 "metadata": {
  "kernelspec": {
   "display_name": "Python 3.8.10 64-bit",
   "language": "python",
   "name": "python3"
  },
  "language_info": {
   "codemirror_mode": {
    "name": "ipython",
    "version": 3
   },
   "file_extension": ".py",
   "mimetype": "text/x-python",
   "name": "python",
   "nbconvert_exporter": "python",
   "pygments_lexer": "ipython3",
   "version": "3.8.10"
  },
  "orig_nbformat": 4,
  "vscode": {
   "interpreter": {
    "hash": "916dbcbb3f70747c44a77c7bcd40155683ae19c65e1c03b4aa3499c5328201f1"
   }
  }
 },
 "nbformat": 4,
 "nbformat_minor": 2
}
